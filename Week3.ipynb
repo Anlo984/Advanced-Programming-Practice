{
 "cells": [
  {
   "cell_type": "code",
   "execution_count": 2,
   "id": "7ff30ecc",
   "metadata": {},
   "outputs": [
    {
     "name": "stdout",
     "output_type": "stream",
     "text": [
      "[-5, -20, -4, 3, 1, 2, 0]\n"
     ]
    }
   ],
   "source": [
    "#Question 1\n",
    "def rearrange(arr, n ) :\n",
    "    j = 0\n",
    "    for i in range(0, n) :\n",
    "        if (arr[i] < 0) :\n",
    "            temp = arr[i]\n",
    "            arr[i] = arr[j]\n",
    "            arr[j]= temp\n",
    "            j = j + 1\n",
    "    print(arr)\n",
    "arr = [-5,-20,0,3,1,2,-4]\n",
    "n = len(arr)\n",
    "rearrange(arr, n)"
   ]
  },
  {
   "cell_type": "code",
   "execution_count": 3,
   "id": "39fef032",
   "metadata": {},
   "outputs": [
    {
     "name": "stdout",
     "output_type": "stream",
     "text": [
      "The original string is : Examples of contractions include: don't, isn't, and wouldn't.\n",
      "List:  ['Examples', 'of', 'contractions', 'include', \"don't\", \"isn't\", 'and', \"wouldn't\"]\n"
     ]
    }
   ],
   "source": [
    "#Question 2\n",
    "test_str = \"Examples of contractions include: don't, isn't, and wouldn't.\"\n",
    "print(\"The original string is : \" + test_str)\n",
    "punc = '''!()-[]{};:\"\\,<>./?@#$%^&*_~'''\n",
    "for ele in test_str:\n",
    "    if ele in punc:\n",
    "        test_str = test_str.replace(ele, \"\")\n",
    "def Convert(string):\n",
    "    li = list(string.split(\" \"))\n",
    "    return li\n",
    "print(\"List: \",Convert(test_str))"
   ]
  },
  {
   "cell_type": "code",
   "execution_count": 1,
   "id": "88001bb7",
   "metadata": {},
   "outputs": [
    {
     "name": "stdout",
     "output_type": "stream",
     "text": [
      "Position of non-zero elements in the matrix: \n",
      "{(0, 2): 3, (1, 1): 5, (2, 0): 9}\n"
     ]
    }
   ],
   "source": [
    "#Question 3\n",
    "arr = [[0, 0, 3],[0,5,0],[9,0,0]]\n",
    "dict = {}\n",
    "for i in range(len(arr)):\n",
    "    for j in range(len(arr[i])):\n",
    "        if arr[i][j] != 0:\n",
    "            dict[i, j] = arr[i][j]\n",
    "\n",
    "print(\"Position of non-zero elements in the matrix: \")\n",
    "print(dict3)"
   ]
  },
  {
   "cell_type": "code",
   "execution_count": 1,
   "id": "0944968e",
   "metadata": {},
   "outputs": [
    {
     "name": "stdout",
     "output_type": "stream",
     "text": [
      "Given Dictionary : {'I': 1, 'One': 1, 'Two': 2, 'II': 2, 'Five': 5}\n",
      "New Dictionary: {1: ['I', 'One'], 2: ['Two', 'II'], 5: ['Five']}\n"
     ]
    }
   ],
   "source": [
    "#Question 5\n",
    "dictA = {\"I\": 1, \"One\": 1, \"Two\": 2, \"II\":2,\"Five\":5}\n",
    "\n",
    "\n",
    "print(\"Given Dictionary :\", dictA)\n",
    "\n",
    "b = {}\n",
    "\n",
    "for key, value in dictA.items():\n",
    "   if value not in b:\n",
    "      b[value] = [key]\n",
    "      \n",
    "   else:\n",
    "      b[value].append(key)\n",
    "      \n",
    "\n",
    "print(\"New Dictionary:\", b)"
   ]
  },
  {
   "cell_type": "code",
   "execution_count": 5,
   "id": "f92d95e3",
   "metadata": {},
   "outputs": [
    {
     "name": "stdout",
     "output_type": "stream",
     "text": [
      "{'A': 6, 'T': 2, 'G': 3, 'C': 2, 'AA': 2, 'AT': 2, 'AC': 2, 'TG': 2, 'GA': 3, 'CG': 1}\n"
     ]
    }
   ],
   "source": [
    "#Question 4\n",
    "dna = \"AATGATGAACGAC\"\n",
    "dinucleotides = ['A', 'T', 'G', 'C',\n",
    "                 'AA','AT','AG','AC', \n",
    "                 'TA','TT','TG','TC', \n",
    "                 'GA','GT','GG','GC', \n",
    "                 'CA','CT','CG','CT'] \n",
    "all_counts = {} \n",
    "for dinucleotide in dinucleotides: \n",
    "    count = dna.count(dinucleotide) \n",
    "    all_counts[dinucleotide] = count\n",
    "full_counts = {x:y for x,y in all_counts.items() if y!=0}\n",
    "print(full_counts)"
   ]
  },
  {
   "cell_type": "code",
   "execution_count": null,
   "id": "9ba8c300",
   "metadata": {},
   "outputs": [],
   "source": []
  }
 ],
 "metadata": {
  "kernelspec": {
   "display_name": "Python 3",
   "language": "python",
   "name": "python3"
  },
  "language_info": {
   "codemirror_mode": {
    "name": "ipython",
    "version": 3
   },
   "file_extension": ".py",
   "mimetype": "text/x-python",
   "name": "python",
   "nbconvert_exporter": "python",
   "pygments_lexer": "ipython3",
   "version": "3.8.8"
  }
 },
 "nbformat": 4,
 "nbformat_minor": 5
}
