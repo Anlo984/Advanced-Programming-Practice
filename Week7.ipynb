{
 "cells": [
  {
   "cell_type": "code",
   "execution_count": null,
   "id": "e12d6fe7",
   "metadata": {},
   "outputs": [
    {
     "name": "stdout",
     "output_type": "stream",
     "text": [
      "Server started at LAPTOP-7NUO1T8G:12345\n"
     ]
    }
   ],
   "source": [
    "#Question 2\n",
    "\n",
    "# echo-server.py\n",
    "# If port is in use try kill -9 $(lsof -t -i tcp:12345)\n",
    "import socket # Import socket module\n",
    "s = socket.socket() # Create a socket object\n",
    "host = socket.gethostname() # Get local machine name\n",
    "port = 12345 # Reserve a port for your service.\n",
    "s.bind((host, port)) # Bind to the port\n",
    "print(f'Server started at {host}:{port}')\n",
    "s.listen(5) # Now wait for client connection.\n",
    "while True:\n",
    "    c, addr = s.accept() # Establish connection with client.\n",
    "    print ('Got connection from', addr)\n",
    "    req1 = c.recv(1024)\n",
    "    req1 = str(req1,'utf-8')\n",
    "    str1 = req1.upper()\n",
    "# print(str1)\n",
    "str1 = bytes(str1,'UTF-8')\n",
    "c.send(str1)\n",
    "c.close() # Close the connection\n",
    "# echo-client.py\n",
    "import socket # Import socket module\n",
    "import os\n",
    "s = socket.socket() # Create a socket object\n",
    "host = socket.gethostname() # Get local machine name\n",
    "port = 12345 # Reserve a port for your service.\n",
    "s.connect((host, port))\n",
    "s.send(b\"Sending request to UpperCase this line\")\n",
    "res1 = s.recv(1024)\n",
    "print(res1)\n",
    "s.close() # Close the socket when done"
   ]
  },
  {
   "cell_type": "code",
   "execution_count": null,
   "id": "70cd8760",
   "metadata": {},
   "outputs": [],
   "source": [
    "import time # import time module\n",
    "import threading\n",
    "from threading import*\n",
    "ThreadCount = 0\n",
    "def req_thread(num): # define a square calculating function\n",
    "    if num<=0:\n",
    "        return 0\n",
    "    req_thread(num-1)\n",
    "    print(f'Hello from Thread {num+1}! I am Thread {num} :)')\n",
    "t = time.time()\n",
    "th1 = threading.Thread(target=req_thread, args=(50, ))\n",
    "th1.start()\n",
    "th1.join()\n",
    "print(\" Total time taking by threads is :\", time.time() - t) # print the total time"
   ]
  },
  {
   "cell_type": "code",
   "execution_count": null,
   "id": "94961b64",
   "metadata": {},
   "outputs": [],
   "source": [
    "import threading \n",
    "import random\n",
    "import time\n",
    "\n",
    "queue = []\n",
    "queueIsAvailable = threading.Semaphore(1)\n",
    "dataIsAvailable = threading.Semaphore(8)\n",
    "\n",
    "def producer():\n",
    "    nums = range(5)\n",
    "    global queue\n",
    "    while True:\n",
    "        num = random.choice(nums)\n",
    "        \n",
    "        queueIsAvailable.acquire()\n",
    "        \n",
    "        queue.append(num)\n",
    "        print(\"Produced\",num,queue)\n",
    "        \n",
    "        \n",
    "        dataIsAvailable.release()\n",
    "        \n",
    "        time.sleep(random.randrange(0, 3))\n",
    "        \n",
    "def consumer():\n",
    "    global queue\n",
    "    while True:\n",
    "        dataIsAvailable.acquire()\n",
    "        \n",
    "        num = queue.pop(0)\n",
    "        print(\"Consumed\",num, queue)\n",
    "        \n",
    "        queueIsAvailable.release()\n",
    "        \n",
    "        time.sleep(random.randrange(0, 3))\n",
    "        \n",
    "producerThread = threading.Thread(target=producer)\n",
    "consumerThread = threading.Thread(target=consumer)\n",
    "\n",
    "producerThread.start()\n",
    "consumerThread.start()"
   ]
  },
  {
   "cell_type": "code",
   "execution_count": null,
   "id": "fc2fe498",
   "metadata": {},
   "outputs": [],
   "source": []
  },
  {
   "cell_type": "code",
   "execution_count": null,
   "id": "41cc9087",
   "metadata": {},
   "outputs": [],
   "source": []
  },
  {
   "cell_type": "code",
   "execution_count": null,
   "id": "e8d7f05a",
   "metadata": {},
   "outputs": [],
   "source": []
  }
 ],
 "metadata": {
  "kernelspec": {
   "display_name": "Python 3",
   "language": "python",
   "name": "python3"
  },
  "language_info": {
   "codemirror_mode": {
    "name": "ipython",
    "version": 3
   },
   "file_extension": ".py",
   "mimetype": "text/x-python",
   "name": "python",
   "nbconvert_exporter": "python",
   "pygments_lexer": "ipython3",
   "version": "3.8.8"
  }
 },
 "nbformat": 4,
 "nbformat_minor": 5
}
