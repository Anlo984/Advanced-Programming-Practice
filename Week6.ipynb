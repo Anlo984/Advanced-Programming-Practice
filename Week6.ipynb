{
 "cells": [
  {
   "cell_type": "code",
   "execution_count": 1,
   "id": "1adbd8af",
   "metadata": {},
   "outputs": [
    {
     "ename": "OperationalError",
     "evalue": "table employees already exists",
     "output_type": "error",
     "traceback": [
      "\u001b[1;31m---------------------------------------------------------------------------\u001b[0m",
      "\u001b[1;31mOperationalError\u001b[0m                          Traceback (most recent call last)",
      "\u001b[1;32m<ipython-input-1-9b16329e7530>\u001b[0m in \u001b[0;36m<module>\u001b[1;34m\u001b[0m\n\u001b[0;32m     23\u001b[0m \u001b[1;33m\u001b[0m\u001b[0m\n\u001b[0;32m     24\u001b[0m \u001b[1;33m\u001b[0m\u001b[0m\n\u001b[1;32m---> 25\u001b[1;33m \u001b[0mcrsr\u001b[0m\u001b[1;33m.\u001b[0m\u001b[0mexecute\u001b[0m\u001b[1;33m(\u001b[0m\u001b[0msql_command\u001b[0m\u001b[1;33m)\u001b[0m\u001b[1;33m\u001b[0m\u001b[1;33m\u001b[0m\u001b[0m\n\u001b[0m",
      "\u001b[1;31mOperationalError\u001b[0m: table employees already exists"
     ]
    }
   ],
   "source": [
    "import sqlite3\n",
    "connection = sqlite3.connect(\"my.db\")\n",
    "\n",
    "crsr = connection.cursor()\n",
    "\n",
    "sql_command = \"\"\"CREATE TABLE employees(\n",
    "employee_id INTEGER PRIMARY KEY,\n",
    "first_name VARCHAR[20],\n",
    "last_name VARCHAR[20],\n",
    "email VARCHAR[40],\n",
    "phone_number INTEGER,\n",
    "hire_date DATE,\n",
    "job_id VARCHAR[40],\n",
    "salary INTEGER,\n",
    "commision INTEGER,\n",
    "manager_id VARCHAR[40],\n",
    "\n",
    "department_id VARCHAR[40]\n",
    "\n",
    "\n",
    "\n",
    ");\"\"\"\n",
    "\n",
    "\n",
    "crsr.execute(sql_command)"
   ]
  },
  {
   "cell_type": "code",
   "execution_count": 2,
   "id": "44340d33",
   "metadata": {},
   "outputs": [
    {
     "name": "stdout",
     "output_type": "stream",
     "text": [
      "Opened database successfully\n"
     ]
    },
    {
     "ename": "OperationalError",
     "evalue": "table Employees already exists",
     "output_type": "error",
     "traceback": [
      "\u001b[1;31m---------------------------------------------------------------------------\u001b[0m",
      "\u001b[1;31mOperationalError\u001b[0m                          Traceback (most recent call last)",
      "\u001b[1;32m<ipython-input-2-b91e7b3fab9f>\u001b[0m in \u001b[0;36m<module>\u001b[1;34m\u001b[0m\n\u001b[0;32m      5\u001b[0m \u001b[1;33m\u001b[0m\u001b[0m\n\u001b[0;32m      6\u001b[0m \u001b[1;31m#conn.execute('drop table Employees')\u001b[0m\u001b[1;33m\u001b[0m\u001b[1;33m\u001b[0m\u001b[1;33m\u001b[0m\u001b[0m\n\u001b[1;32m----> 7\u001b[1;33m conn.execute('''CREATE TABLE Employees\n\u001b[0m\u001b[0;32m      8\u001b[0m          (employee_id INT PRIMARY KEY NOT NULL,\n\u001b[0;32m      9\u001b[0m          \u001b[0mfirst_name\u001b[0m \u001b[0mTEXT\u001b[0m \u001b[0mNOT\u001b[0m \u001b[0mNULL\u001b[0m\u001b[1;33m,\u001b[0m\u001b[1;33m\u001b[0m\u001b[1;33m\u001b[0m\u001b[0m\n",
      "\u001b[1;31mOperationalError\u001b[0m: table Employees already exists"
     ]
    }
   ],
   "source": [
    "import sqlite3\n",
    "\n",
    "conn = sqlite3.connect('test.db')\n",
    "print(\"Opened database successfully\")\n",
    "\n",
    "#conn.execute('drop table Employees')\n",
    "conn.execute('''CREATE TABLE Employees\n",
    "         (employee_id INT PRIMARY KEY NOT NULL,\n",
    "         first_name TEXT NOT NULL,\n",
    "         last_name TEXT NOT NULL,\n",
    "         email TEXT NOT NULL,\n",
    "         phone_number INT ,\n",
    "         hire_date TEXT ,\n",
    "         job_id INT ,\n",
    "         SALARY REAL,\n",
    "         comiision REAL,\n",
    "         manager_id INT,\n",
    "         department_id INT);\n",
    "         ''')\n",
    "print(\"Table created successfully\")\n",
    "conn.execute(\"insert into Employees (employee_id,first_name,last_name,email) \\\n",
    "                VALUES(1,'abc','def','test@test.com')\")\n",
    "ob = conn.execute('select * from Employees')\n",
    "print(*ob)\n",
    "\n",
    "conn.close()"
   ]
  },
  {
   "cell_type": "code",
   "execution_count": 4,
   "id": "79cf6ddf",
   "metadata": {},
   "outputs": [
    {
     "name": "stdout",
     "output_type": "stream",
     "text": [
      "Opened database successfully\n",
      "Table created successfully\n",
      "(1, 'abc', 'def', 'test@test.com', None, None, None, None, None, None, None)\n"
     ]
    }
   ],
   "source": [
    "import sqlite3\n",
    "\n",
    "conn = sqlite3.connect('test.db')\n",
    "print(\"Opened database successfully\")\n",
    "\n",
    "conn.execute('drop table Employees')\n",
    "conn.execute('''CREATE TABLE Employees\n",
    "         (employee_id INT PRIMARY KEY NOT NULL,\n",
    "         first_name TEXT NOT NULL,\n",
    "         last_name TEXT NOT NULL,\n",
    "         email TEXT NOT NULL,\n",
    "         phone_number INT ,\n",
    "         hire_date TEXT ,\n",
    "         job_id INT ,\n",
    "         SALARY REAL,\n",
    "         comiision REAL,\n",
    "         manager_id INT,\n",
    "         department_id INT);\n",
    "         ''')\n",
    "print(\"Table created successfully\")\n",
    "conn.execute(\"insert into Employees (employee_id,first_name,last_name,email) \\\n",
    "                VALUES(1,'abc','def','test@test.com')\")\n",
    "ob = conn.execute('select * from Employees')\n",
    "print(*ob)\n",
    "\n",
    "conn.close()"
   ]
  },
  {
   "cell_type": "code",
   "execution_count": null,
   "id": "76ae6264",
   "metadata": {},
   "outputs": [],
   "source": []
  }
 ],
 "metadata": {
  "kernelspec": {
   "display_name": "Python 3",
   "language": "python",
   "name": "python3"
  },
  "language_info": {
   "codemirror_mode": {
    "name": "ipython",
    "version": 3
   },
   "file_extension": ".py",
   "mimetype": "text/x-python",
   "name": "python",
   "nbconvert_exporter": "python",
   "pygments_lexer": "ipython3",
   "version": "3.8.8"
  }
 },
 "nbformat": 4,
 "nbformat_minor": 5
}
