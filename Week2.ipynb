{
 "cells": [
  {
   "cell_type": "code",
   "execution_count": 3,
   "id": "5fa42ecd",
   "metadata": {},
   "outputs": [
    {
     "name": "stdout",
     "output_type": "stream",
     "text": [
      "Enter the string to be mirrored:anlo\n",
      "The mirrored word is: olna\n"
     ]
    }
   ],
   "source": [
    "#Question 1\n",
    "x=str(input(\"Enter the string to be mirrored:\"))\n",
    "print(\"The mirrored word is:\",x[::-1])"
   ]
  },
  {
   "cell_type": "code",
   "execution_count": 12,
   "id": "932158af",
   "metadata": {},
   "outputs": [
    {
     "name": "stdout",
     "output_type": "stream",
     "text": [
      "String 1: srmist\n",
      "String 2: tsimrs\n",
      "True\n"
     ]
    }
   ],
   "source": [
    "#Question 2\n",
    "x,y=input(\"String 1: \" ),input(\"String 2: \" )\n",
    "if y==x[::-1]:\n",
    " print(\"True\")\n",
    "else:\n",
    " print(\"False\")  "
   ]
  },
  {
   "cell_type": "code",
   "execution_count": 6,
   "id": "80310818",
   "metadata": {},
   "outputs": [
    {
     "name": "stdout",
     "output_type": "stream",
     "text": [
      "Enter a number: 2\n",
      "2 is a prime number\n"
     ]
    }
   ],
   "source": [
    "#Question 13\n",
    "num = int(input(\"Enter a number: \"))\n",
    "\n",
    "# define a flag variable\n",
    "flag = False\n",
    "\n",
    "# prime numbers are greater than 1\n",
    "if num > 1:\n",
    "    # check for factors\n",
    "    for i in range(2, num):\n",
    "        if (num % i) == 0:\n",
    "            # if factor is found, set flag to True\n",
    "            flag = True\n",
    "            # break out of loop\n",
    "            break\n",
    "\n",
    "# check if flag is True\n",
    "if flag:\n",
    "    print(num, \"is not a prime number\")\n",
    "else:\n",
    "    print(num, \"is a prime number\")"
   ]
  },
  {
   "cell_type": "code",
   "execution_count": 5,
   "id": "c63fdb16",
   "metadata": {},
   "outputs": [
    {
     "name": "stdout",
     "output_type": "stream",
     "text": [
      "Enter string to remove punctuations:uih;u'i\n",
      "The string after punctuation filter : uih u i\n"
     ]
    }
   ],
   "source": [
    "#Question 4\n",
    "x=str(input(\"Enter string to remove punctuations:\"))\n",
    "punc = '''!()-[]{};:'\"\\,<>./?@#$%^&*_~'''\n",
    "for a in x:\n",
    "    if a in punc:\n",
    "        x=x.replace(a,\" \")\n",
    "print(\"The string after punctuation filter : \" + x)\n"
   ]
  },
  {
   "cell_type": "code",
   "execution_count": 3,
   "id": "ecee52f4",
   "metadata": {},
   "outputs": [
    {
     "name": "stdout",
     "output_type": "stream",
     "text": [
      "\n",
      "Element-wise sum of the said tuples:\n",
      "(36, 9, 28, 34)\n"
     ]
    }
   ],
   "source": [
    "#Question 5\n",
    "x = (11, 2, 3, 14)\n",
    "y = (13, 5, 22, 10)\n",
    "z = (12, 2, 3, 10)\n",
    "\n",
    "print(\"\\nElement-wise sum of the said tuples:\")\n",
    "result = tuple(map(sum, zip(x, y, z)))\n",
    "print(result)"
   ]
  },
  {
   "cell_type": "code",
   "execution_count": 9,
   "id": "1e9228a3",
   "metadata": {},
   "outputs": [
    {
     "name": "stdout",
     "output_type": "stream",
     "text": [
      "[('ram', '15', '8'), ('laxman', 'sita'), ('krishna', 'akbar', '45'), ('', '')]\n"
     ]
    }
   ],
   "source": [
    "#Question 6\n",
    "def Remove(tuples):\n",
    "    tuples = [t for t in tuples if t]\n",
    "    return tuples\n",
    "tuples = [(), ('ram','15','8'), (), ('laxman', 'sita'), \n",
    "          ('krishna', 'akbar', '45'), ('',''),()]\n",
    "print(Remove(tuples))"
   ]
  },
  {
   "cell_type": "code",
   "execution_count": 12,
   "id": "9b27c46b",
   "metadata": {},
   "outputs": [
    {
     "name": "stdout",
     "output_type": "stream",
     "text": [
      "3\n"
     ]
    }
   ],
   "source": [
    "#Question 7\n",
    "num = [10,20,30,(10,20),40]\n",
    "count = 0\n",
    "for n in num:\n",
    "    if isinstance(n, tuple):\n",
    "        break\n",
    "    count += 1\n",
    "print(count)"
   ]
  },
  {
   "cell_type": "code",
   "execution_count": 14,
   "id": "ac407112",
   "metadata": {},
   "outputs": [
    {
     "name": "stdout",
     "output_type": "stream",
     "text": [
      "0111111\n"
     ]
    }
   ],
   "source": [
    "#Question 3\n",
    "import random\n",
    "def findRandom():\n",
    "    num = random.randint(0, 1)\n",
    "    return num\n",
    "def generateBinaryString(N):\n",
    "     \n",
    "    S = \"\"\n",
    "    for i in range(N):\n",
    "        x = findRandom()\n",
    "        S += str(x)\n",
    "    print(S)\n",
    "N = 7\n",
    " \n",
    "generateBinaryString(N)"
   ]
  },
  {
   "cell_type": "code",
   "execution_count": 1,
   "id": "b030a710",
   "metadata": {},
   "outputs": [
    {
     "name": "stdout",
     "output_type": "stream",
     "text": [
      "The original list is : [[(9, 51), (7, 9)], [(11, 1), (22, 19)]]\n",
      "The converted tuple list : [(9, 7, 11, 22), (51, 9, 1, 19)]\n"
     ]
    }
   ],
   "source": [
    "#Question 8\n",
    "test_list = [[(9, 51), (7, 9)], [(11, 1), (22, 19)]]\n",
    "print(\"The original list is : \" + str(test_list))\n",
    "temp = [ele for sub in test_list for ele in sub]\n",
    "print(\"The converted tuple list : \" + str(list(zip(*temp))))\n"
   ]
  },
  {
   "cell_type": "code",
   "execution_count": 5,
   "id": "8a937bf1",
   "metadata": {},
   "outputs": [
    {
     "name": "stdout",
     "output_type": "stream",
     "text": [
      "No. of unique items are: 5\n"
     ]
    }
   ],
   "source": [
    "#Question 9\n",
    "input_list = [1, 2, 2, 5, 8, 4, 4, 8]\n",
    "l1 = []\n",
    "count = 0\n",
    "for item in input_list:\n",
    "     if item not in l1:\n",
    "         count += 1\n",
    "         l1.append(item)\n",
    "print(\"No. of unique items are:\", count)"
   ]
  },
  {
   "cell_type": "code",
   "execution_count": 6,
   "id": "ca4e761c",
   "metadata": {},
   "outputs": [
    {
     "name": "stdout",
     "output_type": "stream",
     "text": [
      "Enter 3 nos:135\n",
      "1 3 5\n",
      "1 5 3\n",
      "3 1 5\n",
      "3 5 1\n",
      "5 1 3\n",
      "5 3 1\n"
     ]
    }
   ],
   "source": [
    "#Question 10\n",
    "def comb(L):\n",
    "     for i in range(3):\n",
    "         for j in range(3):\n",
    "             for k in range(3):\n",
    "                 if (i!=j and j!=k and i!=k):\n",
    "                     print(L[i], L[j], L[k])\n",
    "comb(input(\"Enter 3 nos:\", ))"
   ]
  },
  {
   "cell_type": "code",
   "execution_count": 7,
   "id": "aa7bbcf7",
   "metadata": {},
   "outputs": [
    {
     "name": "stdout",
     "output_type": "stream",
     "text": [
      "Even numbers in the list:  [64, 22, 24]\n"
     ]
    }
   ],
   "source": [
    "#Question 11\n",
    "list1 = [11,23,45,23,64,22,11,24]\n",
    "even_no = list(filter(lambda x: (x % 2 == 0), list1))\n",
    "print(\"Even numbers in the list: \", even_no)"
   ]
  },
  {
   "cell_type": "code",
   "execution_count": 10,
   "id": "4e8aac06",
   "metadata": {},
   "outputs": [
    {
     "name": "stdout",
     "output_type": "stream",
     "text": [
      "Enter string:111\n",
      "String is a palindrome!\n"
     ]
    }
   ],
   "source": [
    "#Question 12\n",
    "def is_palindrome(s):\n",
    "     if len(s) < 1:\n",
    "         return True\n",
    "     else:\n",
    "         if s[0] == s[-1]:\n",
    "             return is_palindrome(s[1:-1])\n",
    "         else:\n",
    "             return False\n",
    "a=str(input(\"Enter string:\"))\n",
    "if(is_palindrome(a)==True):\n",
    "     print(\"String is a palindrome!\")\n",
    "else:\n",
    "     print(\"String isn't a palindrome!\")"
   ]
  },
  {
   "cell_type": "code",
   "execution_count": null,
   "id": "514044b6",
   "metadata": {},
   "outputs": [],
   "source": []
  }
 ],
 "metadata": {
  "kernelspec": {
   "display_name": "Python 3",
   "language": "python",
   "name": "python3"
  },
  "language_info": {
   "codemirror_mode": {
    "name": "ipython",
    "version": 3
   },
   "file_extension": ".py",
   "mimetype": "text/x-python",
   "name": "python",
   "nbconvert_exporter": "python",
   "pygments_lexer": "ipython3",
   "version": "3.8.8"
  }
 },
 "nbformat": 4,
 "nbformat_minor": 5
}
