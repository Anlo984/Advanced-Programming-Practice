{
 "cells": [
  {
   "cell_type": "raw",
   "id": "e8dd6ead",
   "metadata": {},
   "source": [
    "#Question 1\n",
    "class SRMIST:\n",
    "    school = 'SRMIST'\n",
    "    dept1 = 'Computer Science'\n",
    "    dept2 = 'Artificial Intelligence'\n",
    "    dept3 = 'Mechanical Engineering'\n",
    "    dept4 = 'Biotech'\n",
    "print(\"Original attributes and their values of the Student class:\")\n",
    "for attr, value in SRMIST.__dict__.items():\n",
    "    if not attr.startswith('_'):\n",
    "        print(f'{attr} -> {value}')\n",
    "print(\"\\nAfter adding the specialization, attributes and their values with the said class:\")\n",
    "SRMIST.specialization  = 'Blockchain'\n",
    "for attr, value in SRMIST.__dict__.items():\n",
    "    if not attr.startswith('_'):\n",
    "        print(f'{attr} -> {value}')\n",
    "print(\"\\nAfter removing the dept1,dept2 attributes and their values from the said class:\")\n",
    "del SRMIST.dept1\n",
    "del SRMIST.dept2\n",
    "#delattr(Student, 'student_name')\n",
    "for attr, value in SRMIST.__dict__.items():\n",
    "    if not attr.startswith('_'):\n",
    "        print(f'{attr} -> {value}')\n"
   ]
  },
  {
   "cell_type": "code",
   "execution_count": 2,
   "id": "cbe366bc",
   "metadata": {},
   "outputs": [
    {
     "name": "stdout",
     "output_type": "stream",
     "text": [
      "True\n",
      "True\n",
      "True\n",
      "True\n",
      "False\n",
      "False\n",
      "\n",
      "Check whether the said classes are subclasses of the built-in object class or not.\n",
      "True\n",
      "True\n",
      "True\n",
      "True\n"
     ]
    }
   ],
   "source": [
    "#Question 2\n",
    "class CTECH:\n",
    "    pass \n",
    "class NWC:\n",
    "    pass\n",
    "class CINTEL:\n",
    "    pass\n",
    "class DSBS:\n",
    "    pass\n",
    "ctech1 = CTECH()\n",
    "nwc1 = NWC()\n",
    "cintel1 = CINTEL()\n",
    "dsbs1= DSBS()\n",
    "print(isinstance(ctech1, CTECH))\n",
    "print(isinstance(nwc1, NWC))\n",
    "print(isinstance(cintel1, CINTEL)) \n",
    "print(isinstance(dsbs1, DSBS))\n",
    "print(isinstance(nwc1, CTECH))\n",
    "print(isinstance(dsbs1 , CINTEL))\n",
    "print(\"\\nCheck whether the said classes are subclasses of the built-in object class or not.\")\n",
    "print(issubclass(CTECH, object))\n",
    "print(issubclass(NWC, object)) \n",
    "print(issubclass(CINTEL, object)) \n",
    "print(issubclass(DSBS, object))\n"
   ]
  },
  {
   "cell_type": "code",
   "execution_count": 3,
   "id": "ecdb818a",
   "metadata": {},
   "outputs": [
    {
     "ename": "TypeError",
     "evalue": "Dept() takes no arguments",
     "output_type": "error",
     "traceback": [
      "\u001b[1;31m---------------------------------------------------------------------------\u001b[0m",
      "\u001b[1;31mTypeError\u001b[0m                                 Traceback (most recent call last)",
      "\u001b[1;32m<ipython-input-3-73e8ad189ac3>\u001b[0m in \u001b[0;36m<module>\u001b[1;34m\u001b[0m\n\u001b[0;32m     11\u001b[0m \u001b[1;33m\u001b[0m\u001b[0m\n\u001b[0;32m     12\u001b[0m \u001b[1;33m\u001b[0m\u001b[0m\n\u001b[1;32m---> 13\u001b[1;33m \u001b[0md1\u001b[0m\u001b[1;33m=\u001b[0m\u001b[0mDept\u001b[0m\u001b[1;33m(\u001b[0m\u001b[1;34m\"Bio\"\u001b[0m\u001b[1;33m)\u001b[0m\u001b[1;33m\u001b[0m\u001b[1;33m\u001b[0m\u001b[0m\n\u001b[0m\u001b[0;32m     14\u001b[0m \u001b[0md1\u001b[0m\u001b[1;33m.\u001b[0m\u001b[0mdeptname\u001b[0m\u001b[1;33m(\u001b[0m\u001b[1;33m)\u001b[0m\u001b[1;33m\u001b[0m\u001b[1;33m\u001b[0m\u001b[0m\n\u001b[0;32m     15\u001b[0m \u001b[1;33m\u001b[0m\u001b[0m\n",
      "\u001b[1;31mTypeError\u001b[0m: Dept() takes no arguments"
     ]
    }
   ],
   "source": [
    "class Dept:\n",
    "    def init(self, *args): \n",
    "        if len(args) == 1: \n",
    "            self.dept=args[0] \n",
    "\n",
    "        elif len(args) == 0: \n",
    "            self.dept=\"SCO\" \n",
    "\n",
    "    def deptname(self):\n",
    "        print(self.dept)\n",
    "\n",
    "\n",
    "d1=Dept(\"Bio\")\n",
    "d1.deptname()\n",
    "\n",
    "d2=Dept(\"\")\n",
    "d2.deptname()\n"
   ]
  },
  {
   "cell_type": "code",
   "execution_count": 4,
   "id": "7df325f8",
   "metadata": {},
   "outputs": [
    {
     "name": "stdout",
     "output_type": "stream",
     "text": [
      "6\n",
      "25\n",
      "0\n"
     ]
    }
   ],
   "source": [
    "#Question4\n",
    "class Rectangle: \n",
    "    length=0  \n",
    "    breadth=0 \n",
    "    def __init__(self, *args): \n",
    "        if len(args) == 2: \n",
    "            self.length=args[0]\n",
    "            self.breadth=args[1] \n",
    "        elif len(args) == 1: \n",
    "            self.length=args[0] \n",
    "            self.breadth=args[0] \n",
    "        else: \n",
    "            self.length=0 \n",
    "            self.breadth=0 \n",
    "    def area(self): \n",
    "        return self.length*self.breadth\n",
    "\n",
    "r=Rectangle(2,3) \n",
    "print(r.area()) \n",
    "re=Rectangle(5) \n",
    "print(re.area()) \n",
    "rec=Rectangle() \n",
    "print(rec.area())\n"
   ]
  },
  {
   "cell_type": "code",
   "execution_count": 5,
   "id": "0bc8be7c",
   "metadata": {},
   "outputs": [
    {
     "name": "stdout",
     "output_type": "stream",
     "text": [
      "[1, 2, 3]\n",
      "('a', [8, 4, 6], 'mouse')\n",
      "amit\n"
     ]
    }
   ],
   "source": [
    "#Question5\n",
    "class PrintDT:\n",
    "    def python_data(self,list):\n",
    "        self.list=[]\n",
    "        print(self.list)\n",
    "\n",
    "    def python_data(self,tuple):\n",
    "        self.tuple=()\n",
    "        print(tuple)\n",
    "\n",
    "    def python_data(self,str):\n",
    "        self.str=''\n",
    "        print(str)\n",
    "\n",
    "p=PrintDT()\n",
    "p.python_data([1,2,3])\n",
    "p.python_data(('a',[8,4,6],\"mouse\"))\n",
    "p.python_data('amit')\n"
   ]
  },
  {
   "cell_type": "code",
   "execution_count": 6,
   "id": "b7c43b73",
   "metadata": {},
   "outputs": [
    {
     "name": "stdout",
     "output_type": "stream",
     "text": [
      "15000\n",
      "30000\n",
      "40000\n"
     ]
    }
   ],
   "source": [
    "#Question 6\n",
    "class Banks_SRMIST:\n",
    "    def getBalance():\n",
    "        return 0\n",
    "class CUB(Banks_SRMIST):\n",
    "    \n",
    "    def getBalance(balance):\n",
    "         return balance\n",
    "class HDFC(Banks_SRMIST):\n",
    "    \n",
    "    def getBalance(balance):\n",
    "        return balance\n",
    "class Indian_Bank(Banks_SRMIST):\n",
    "    \n",
    "    def getBalance(balance):\n",
    "        return balance\n",
    "Banks_SRMIST()\n",
    "print(CUB.getBalance(15000))\n",
    "print(HDFC.getBalance(30000))\n",
    "print(Indian_Bank.getBalance(40000))\n"
   ]
  },
  {
   "cell_type": "code",
   "execution_count": 1,
   "id": "06cdfbb5",
   "metadata": {},
   "outputs": [
    {
     "ename": "TypeError",
     "evalue": "Time() takes no arguments",
     "output_type": "error",
     "traceback": [
      "\u001b[1;31m---------------------------------------------------------------------------\u001b[0m",
      "\u001b[1;31mTypeError\u001b[0m                                 Traceback (most recent call last)",
      "\u001b[1;32m<ipython-input-1-d7228f9045b7>\u001b[0m in \u001b[0;36m<module>\u001b[1;34m\u001b[0m\n\u001b[0;32m     19\u001b[0m     \u001b[0mprint\u001b[0m \u001b[1;33m(\u001b[0m\u001b[1;33m(\u001b[0m\u001b[0mself\u001b[0m\u001b[1;33m.\u001b[0m\u001b[0mhours\u001b[0m\u001b[1;33m*\u001b[0m\u001b[1;36m60\u001b[0m\u001b[1;33m)\u001b[0m\u001b[1;33m+\u001b[0m\u001b[0mself\u001b[0m\u001b[1;33m.\u001b[0m\u001b[0mmins\u001b[0m\u001b[1;33m)\u001b[0m\u001b[1;33m\u001b[0m\u001b[1;33m\u001b[0m\u001b[0m\n\u001b[0;32m     20\u001b[0m \u001b[1;33m\u001b[0m\u001b[0m\n\u001b[1;32m---> 21\u001b[1;33m \u001b[0ma\u001b[0m \u001b[1;33m=\u001b[0m \u001b[0mTime\u001b[0m\u001b[1;33m(\u001b[0m\u001b[1;36m2\u001b[0m\u001b[1;33m,\u001b[0m\u001b[1;36m40\u001b[0m\u001b[1;33m)\u001b[0m\u001b[1;33m\u001b[0m\u001b[1;33m\u001b[0m\u001b[0m\n\u001b[0m\u001b[0;32m     22\u001b[0m \u001b[0mb\u001b[0m \u001b[1;33m=\u001b[0m \u001b[0mTime\u001b[0m\u001b[1;33m(\u001b[0m\u001b[1;36m1\u001b[0m\u001b[1;33m,\u001b[0m\u001b[1;36m30\u001b[0m\u001b[1;33m)\u001b[0m\u001b[1;33m\u001b[0m\u001b[1;33m\u001b[0m\u001b[0m\n\u001b[0;32m     23\u001b[0m \u001b[0mc\u001b[0m \u001b[1;33m=\u001b[0m \u001b[0mTime\u001b[0m\u001b[1;33m.\u001b[0m\u001b[0maddTime\u001b[0m\u001b[1;33m(\u001b[0m\u001b[0ma\u001b[0m\u001b[1;33m,\u001b[0m\u001b[0mb\u001b[0m\u001b[1;33m)\u001b[0m\u001b[1;33m\u001b[0m\u001b[1;33m\u001b[0m\u001b[0m\n",
      "\u001b[1;31mTypeError\u001b[0m: Time() takes no arguments"
     ]
    }
   ],
   "source": [
    "class Time():\n",
    "\n",
    "  def _init_(self, hours, mins):\n",
    "    self.hours = hours\n",
    "    self.mins = mins\n",
    "\n",
    "  def addTime(t1, t2):\n",
    "    t3 = Time(0,0)\n",
    "    if t1.mins+t2.mins > 60:\n",
    "      t3.hours = (t1.mins+t2.mins)//60\n",
    "    t3.hours = t3.hours+t1.hours+t2.hours\n",
    "    t3.mins = (t1.mins + t2.mins) % 60\n",
    "    return t3\n",
    "\n",
    "  def displayTime(self):\n",
    "    print (\"Time is\",self.hours,\"hours and\",self.mins,\"minutes.\")\n",
    "\n",
    "  def displayMinute(self):\n",
    "    print ((self.hours*60)+self.mins)\n",
    "\n",
    "a = Time(2,40)\n",
    "b = Time(1,30)\n",
    "c = Time.addTime(a,b)\n",
    "c.displayTime()\n",
    "c.displayMinute()\n"
   ]
  },
  {
   "cell_type": "code",
   "execution_count": 1,
   "id": "349757c7",
   "metadata": {},
   "outputs": [
    {
     "name": "stdout",
     "output_type": "stream",
     "text": [
      "Original attributes and their values of the Student class:\n",
      "school -> SRMIST\n",
      "dept1 -> Computer Science\n",
      "dept2 -> Artificial Intelligence\n",
      "dept3 -> Mechanical Engineering\n",
      "dept4 -> Biotech\n",
      "\n",
      "After adding the specialization, attributes and their values with the said class:\n",
      "school -> SRMIST\n",
      "dept1 -> Computer Science\n",
      "dept2 -> Artificial Intelligence\n",
      "dept3 -> Mechanical Engineering\n",
      "dept4 -> Biotech\n",
      "specialization -> Blockchain\n",
      "\n",
      "After removing the dept1,dept2 attributes and their values from the said class:\n",
      "school -> SRMIST\n",
      "dept3 -> Mechanical Engineering\n",
      "dept4 -> Biotech\n",
      "specialization -> Blockchain\n"
     ]
    }
   ],
   "source": [
    "#Question 1\n",
    "class SRMIST:\n",
    "    school = 'SRMIST'\n",
    "    dept1 = 'Computer Science'\n",
    "    dept2 = 'Artificial Intelligence'\n",
    "    dept3 = 'Mechanical Engineering'\n",
    "    dept4 = 'Biotech'\n",
    "print(\"Original attributes and their values of the Student class:\")\n",
    "for attr, value in SRMIST.__dict__.items():\n",
    "    if not attr.startswith('_'):\n",
    "        print(f'{attr} -> {value}')\n",
    "print(\"\\nAfter adding the specialization, attributes and their values with the said class:\")\n",
    "SRMIST.specialization  = 'Blockchain'\n",
    "for attr, value in SRMIST.__dict__.items():\n",
    "    if not attr.startswith('_'):\n",
    "        print(f'{attr} -> {value}')\n",
    "print(\"\\nAfter removing the dept1,dept2 attributes and their values from the said class:\")\n",
    "del SRMIST.dept1\n",
    "del SRMIST.dept2\n",
    "#delattr(Student, 'student_name')\n",
    "for attr, value in SRMIST.__dict__.items():\n",
    "    if not attr.startswith('_'):\n",
    "        print(f'{attr} -> {value}')"
   ]
  },
  {
   "cell_type": "code",
   "execution_count": null,
   "id": "1efe9532",
   "metadata": {},
   "outputs": [],
   "source": []
  }
 ],
 "metadata": {
  "kernelspec": {
   "display_name": "Python 3",
   "language": "python",
   "name": "python3"
  },
  "language_info": {
   "codemirror_mode": {
    "name": "ipython",
    "version": 3
   },
   "file_extension": ".py",
   "mimetype": "text/x-python",
   "name": "python",
   "nbconvert_exporter": "python",
   "pygments_lexer": "ipython3",
   "version": "3.8.8"
  }
 },
 "nbformat": 4,
 "nbformat_minor": 5
}
