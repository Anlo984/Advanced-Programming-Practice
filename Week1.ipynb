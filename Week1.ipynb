{
 "cells": [
  {
   "cell_type": "code",
   "execution_count": 1,
   "id": "e0f7784a",
   "metadata": {
    "scrolled": true
   },
   "outputs": [
    {
     "name": "stdout",
     "output_type": "stream",
     "text": [
      "1000,1040,1080,1120,1160,1200,1240,1280,1320,1360,1400,1440,1480,1520,1560,1600,1640,1680,1720,1760,1800,1840,1880,1920,1960,2000\n"
     ]
    }
   ],
   "source": [
    "#Question 1\n",
    "nl=[]\n",
    "for x in range(1000,2001):\n",
    "    if (x%8==0) and (x%5==0):\n",
    "        nl.append(str(x))\n",
    "print(','.join(nl))"
   ]
  },
  {
   "cell_type": "code",
   "execution_count": 2,
   "id": "250b5f3c",
   "metadata": {},
   "outputs": [
    {
     "name": "stdout",
     "output_type": "stream",
     "text": [
      "Guess a number between 1 and 10 until you get it right : 4\n",
      "Guess a number between 1 and 10 until you get it right : 5\n",
      "Guess a number between 1 and 10 until you get it right : 6\n",
      "Guess a number between 1 and 10 until you get it right : 8\n",
      "Well guessed!\n"
     ]
    }
   ],
   "source": [
    "#Question 2\n",
    "import random\n",
    "target_num, guess_num = random.randint(1, 10),0\n",
    "while target_num != guess_num:\n",
    "    guess_num = int(input('Guess a number between 1 and 10 until you get it right : '))\n",
    "print('Well guessed!')"
   ]
  },
  {
   "cell_type": "code",
   "execution_count": 3,
   "id": "731859c6",
   "metadata": {},
   "outputs": [
    {
     "name": "stdout",
     "output_type": "stream",
     "text": [
      "\n",
      "* \n",
      "* * \n",
      "* * * \n",
      "* * * * \n",
      "* * * * * \n",
      "* * * * \n",
      "* * * \n",
      "* * \n",
      "* \n"
     ]
    }
   ],
   "source": [
    "#Question 3\n",
    "for i in range(5):\n",
    "    for j in range(i):\n",
    "        print ('* ',end=\"\")\n",
    "    print()\n",
    "\n",
    "for i in range(5,0,-1):\n",
    "    for j in range(i):\n",
    "        print('* ', end=\"\")\n",
    "    print()"
   ]
  },
  {
   "cell_type": "code",
   "execution_count": 4,
   "id": "8c302756",
   "metadata": {},
   "outputs": [
    {
     "name": "stdout",
     "output_type": "stream",
     "text": [
      "Enter a word to be reversed: anlo\n",
      "Reverse of the word is: \n",
      "olna\n"
     ]
    }
   ],
   "source": [
    "#Question 4\n",
    "a=str(input(\"Enter a word to be reversed: \"))\n",
    "print(\"Reverse of the word is: \")\n",
    "print(a[::-1])"
   ]
  },
  {
   "cell_type": "code",
   "execution_count": null,
   "id": "1ef182a0",
   "metadata": {},
   "outputs": [],
   "source": []
  },
  {
   "cell_type": "code",
   "execution_count": 5,
   "id": "9d976c97",
   "metadata": {},
   "outputs": [
    {
     "name": "stdout",
     "output_type": "stream",
     "text": [
      "Enter the number of rows:3\n",
      "Enter the number of columns:3\n",
      "[[0, 0, 0], [0, 1, 2], [0, 2, 4]]\n"
     ]
    }
   ],
   "source": [
    "#Question 5\n",
    "rows = int(input(\"Enter the number of rows:\"))\n",
    "columns = int(input(\"Enter the number of columns:\"))\n",
    "\n",
    "arr = []\n",
    "\n",
    "for i in range(rows):\n",
    "    col = []\n",
    "    for j in range(columns):\n",
    "        col.append(i*j)\n",
    "    arr.append(col)\n",
    "print(arr)"
   ]
  },
  {
   "cell_type": "code",
   "execution_count": 6,
   "id": "c1e71edc",
   "metadata": {},
   "outputs": [
    {
     "name": "stdout",
     "output_type": "stream",
     "text": [
      "Input:srmist 2022\n",
      "Letters: 6\n",
      "Digits: 4\n"
     ]
    }
   ],
   "source": [
    "#Question 6\n",
    "a=str(input(\"Input:\"))\n",
    "Digits=0\n",
    "Letters=0\n",
    "for x in a:\n",
    " if x.isnumeric():\n",
    "    Digits +=1\n",
    " elif x.isalpha():\n",
    "    Letters +=1\n",
    "print(\"Letters:\",Letters)\n",
    "print(\"Digits:\",Digits)"
   ]
  },
  {
   "cell_type": "code",
   "execution_count": 9,
   "id": "e8c5f9c7",
   "metadata": {},
   "outputs": [
    {
     "name": "stdout",
     "output_type": "stream",
     "text": [
      "200,202,204,206,208,220,222,224,226,228,240,242,244,246,248,260,262,264,266,268,280,282,284,286,288,400\n"
     ]
    }
   ],
   "source": [
    "#Question 8\n",
    "items = []\n",
    "for i in range(100, 401):\n",
    "    s = str(i)\n",
    "    if (int(s[0])%2==0) and (int(s[1])%2==0) and (int(s[2])%2==0):\n",
    "        items.append(s)\n",
    "print( \",\".join(items))"
   ]
  },
  {
   "cell_type": "code",
   "execution_count": 18,
   "id": "48656561",
   "metadata": {},
   "outputs": [
    {
     "name": "stdout",
     "output_type": "stream",
     "text": [
      "Input the name of Month: January\n",
      "Number of days: 31 day\n"
     ]
    }
   ],
   "source": [
    "#Question 9\n",
    "month_name = input(\"Input the name of Month: \")\n",
    "if month_name == \"February\":\n",
    "    print(\"No. of days: 28/29 days\")\n",
    "elif month_name in (\"April\", \"June\", \"September\", \"November\"):\n",
    "    print(\"No. of days: 30 days\")\n",
    "elif month_name in (\"January\", \"March\", \"May\", \"July\", \"August\", \"October\", \"December\"):\n",
    "    print(\"Number of days: 31 day\")\n",
    "else:\n",
    "    print(\"Wrong month name\") "
   ]
  },
  {
   "cell_type": "code",
   "execution_count": 21,
   "id": "018d3223",
   "metadata": {},
   "outputs": [
    {
     "name": "stdout",
     "output_type": "stream",
     "text": [
      "Enter the First Number: 106\n",
      "Enter the Second Number: 20\n",
      "200\n"
     ]
    }
   ],
   "source": [
    "#Question 10\n",
    "a=int(input(\"Enter the First Number: \"))\n",
    "b=int(input(\"Enter the Second Number: \"))\n",
    "c=a+b\n",
    "if c>105 and c<200:\n",
    "    print(\"200\")\n",
    "else:\n",
    "    print(c)"
   ]
  },
  {
   "cell_type": "code",
   "execution_count": 16,
   "id": "002f3243",
   "metadata": {},
   "outputs": [
    {
     "name": "stdout",
     "output_type": "stream",
     "text": [
      "999999999\n",
      "88888888\n",
      "7777777\n",
      "666666\n",
      "55555\n",
      "4444\n",
      "333\n",
      "22\n",
      "1\n"
     ]
    }
   ],
   "source": [
    "#Question 11\n",
    "for i in range(9,0,-1):\n",
    "    for j in range(i):\n",
    "        print(i, end=\"\")\n",
    "    print()"
   ]
  },
  {
   "cell_type": "code",
   "execution_count": 17,
   "id": "47141ff7",
   "metadata": {},
   "outputs": [
    {
     "name": "stdout",
     "output_type": "stream",
     "text": [
      "Enter the First Number: 7\n",
      "Enter the Second Number: 8\n",
      "False\n"
     ]
    }
   ],
   "source": [
    "#Question 13\n",
    "a=int(input(\"Enter the First Number: \"))\n",
    "b=int(input(\"Enter the Second Number: \"))\n",
    "c=a+b\n",
    "d=a-b\n",
    "if a==b:\n",
    "    print(\"True\")\n",
    "elif c==5 or d==5:\n",
    "    print(\"True\")\n",
    "else:\n",
    "    print(\"False\")"
   ]
  },
  {
   "cell_type": "code",
   "execution_count": 23,
   "id": "0c7e76e6",
   "metadata": {},
   "outputs": [
    {
     "name": "stdout",
     "output_type": "stream",
     "text": [
      "enter first coordinate : 0,2\n",
      "enter second coordinate : 3,4\n",
      "distance between  0,2 and 3,4 is 3.605551275463989\n"
     ]
    }
   ],
   "source": [
    "#Question 14\n",
    "import math\n",
    "\n",
    "a=input(\"enter first coordinate : \")\n",
    "\n",
    "p1 = a.split(\",\")\n",
    "\n",
    "b=input(\"enter second coordinate : \")\n",
    "\n",
    "p2 = b.split(\",\")\n",
    "\n",
    "distance = math.sqrt( ((int(p1[0])-int(p2[0]))**2)+((int(p1[1])-int(p2[1]))**2) )\n",
    "\n",
    "print(\"distance between \", a,\"and\", b, \"is\",distance) "
   ]
  },
  {
   "cell_type": "code",
   "execution_count": 24,
   "id": "059a7b01",
   "metadata": {},
   "outputs": [
    {
     "name": "stdout",
     "output_type": "stream",
     "text": [
      "Enter Text: anushka\n",
      "The number of a's is 2\n",
      "The number of h's is 1\n",
      "The number of k's is 1\n",
      "The number of n's is 1\n",
      "The number of s's is 1\n",
      "The number of u's is 1\n"
     ]
    }
   ],
   "source": [
    "#Question 16\n",
    "from collections import Counter\n",
    "text = str(input(\"Enter Text: \"))\n",
    "alpha = 'abcdefghijklmnopqrstuvwxyz'\n",
    "\n",
    "text = text.lower()\n",
    "for x in alpha:\n",
    "    if text.count(x)>0:\n",
    "        print(f\"The number of {x}'s is\",text.count(x))"
   ]
  },
  {
   "cell_type": "code",
   "execution_count": 25,
   "id": "52e81a99",
   "metadata": {},
   "outputs": [
    {
     "name": "stdout",
     "output_type": "stream",
     "text": [
      "Enter Phone Number: 9922501997\n",
      "The number 3 is not present in the given phone number.\n",
      "The number 4 is not present in the given phone number.\n",
      "The number 6 is not present in the given phone number.\n",
      "The number 8 is not present in the given phone number.\n"
     ]
    }
   ],
   "source": [
    "#Question 18\n",
    "phone_number = list(input(\"Enter Phone Number: \"))\n",
    "check_list = ['1','2','3','4','5','6','7','8','9','0']\n",
    "\n",
    "for x in check_list:\n",
    "    if (x not in phone_number):\n",
    "        print(f\"The number {x} is not present in the given phone number.\")"
   ]
  },
  {
   "cell_type": "code",
   "execution_count": 26,
   "id": "9b560312",
   "metadata": {},
   "outputs": [
    {
     "name": "stdout",
     "output_type": "stream",
     "text": [
      "Input third term of the series:4\n",
      "Input 3rd last term:10\n",
      "Sum of the series:30\n",
      "Length of the series:  4\n",
      "Series:\n",
      "16 10 4 -2 "
     ]
    }
   ],
   "source": [
    "#Question 20\n",
    "tn = int(input(\"Input third term of the series:\"))\n",
    "tltn = int(input(\"Input 3rd last term:\"))\n",
    "s_sum = int(input(\"Sum of the series:\"))\n",
    "n = int(2*s_sum/(tn+tltn))\n",
    "print(\"Length of the series: \",n)\n",
    "\n",
    "\n",
    "if n-5==0:\n",
    "  d = (s_sum-3*tn)//6\n",
    "else:\n",
    "  d = (tltn-tn)/(n-5)\n",
    "\n",
    "a = tn-2*d\n",
    "j = 0\n",
    "print(\"Series:\")\n",
    "for j in range(n-1):\n",
    "  print(int(a),end=\" \")\n",
    "  a+=d\n",
    "print(int(a),end=\" \")\n"
   ]
  },
  {
   "cell_type": "code",
   "execution_count": 1,
   "id": "49f6abc9",
   "metadata": {},
   "outputs": [
    {
     "ename": "NameError",
     "evalue": "name 'fkefwfn' is not defined",
     "output_type": "error",
     "traceback": [
      "\u001b[1;31m---------------------------------------------------------------------------\u001b[0m",
      "\u001b[1;31mNameError\u001b[0m                                 Traceback (most recent call last)",
      "\u001b[1;32m<ipython-input-1-5b481e3997d3>\u001b[0m in \u001b[0;36m<module>\u001b[1;34m\u001b[0m\n\u001b[1;32m----> 1\u001b[1;33m \u001b[0mfkefwfn\u001b[0m\u001b[1;33m\u001b[0m\u001b[1;33m\u001b[0m\u001b[0m\n\u001b[0m",
      "\u001b[1;31mNameError\u001b[0m: name 'fkefwfn' is not defined"
     ]
    }
   ],
   "source": []
  },
  {
   "cell_type": "code",
   "execution_count": null,
   "id": "c1995490",
   "metadata": {},
   "outputs": [],
   "source": []
  }
 ],
 "metadata": {
  "kernelspec": {
   "display_name": "Python 3",
   "language": "python",
   "name": "python3"
  },
  "language_info": {
   "codemirror_mode": {
    "name": "ipython",
    "version": 3
   },
   "file_extension": ".py",
   "mimetype": "text/x-python",
   "name": "python",
   "nbconvert_exporter": "python",
   "pygments_lexer": "ipython3",
   "version": "3.8.8"
  }
 },
 "nbformat": 4,
 "nbformat_minor": 5
}
